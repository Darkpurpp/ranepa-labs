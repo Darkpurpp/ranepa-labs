{
 "cells": [
  {
   "cell_type": "markdown",
   "metadata": {},
   "source": [
    "# Convolutional Neural Networks: Application\n",
    "\n",
    "Welcome to Course 4's second assignment! In this notebook, you will:\n",
    "\n",
    "- Create a mood classifer using the TF Keras Sequential API\n",
    "- Build a ConvNet to identify sign language digits using the TF Keras Functional API\n",
    "\n",
    "**After this assignment you will be able to:**\n",
    "\n",
    "- Build and train a ConvNet in TensorFlow for a __binary__ classification problem\n",
    "- Build and train a ConvNet in TensorFlow for a __multiclass__ classification problem\n",
    "- Explain different use cases for the Sequential and Functional APIs\n",
    "\n",
    "To complete this assignment, you should already be familiar with TensorFlow. If you are not, please refer back to the **TensorFlow Tutorial** of the third week of Course 2 (\"**Improving deep neural networks**\")."
   ]
  },
  {
   "cell_type": "markdown",
   "metadata": {},
   "source": [
    "## Table of Contents\n",
    "\n",
    "- [1 - Packages](#1)\n",
    "    - [1.1 - Load the Data and Split the Data into Train/Test Sets](#1-1)\n",
    "- [2 - Layers in TF Keras](#2)\n",
    "- [3 - The Sequential API](#3)\n",
    "    - [3.1 - Create the Sequential Model](#3-1)\n",
    "        - [Exercise 1 - happyModel](#ex-1)\n",
    "    - [3.2 - Train and Evaluate the Model](#3-2)\n",
    "- [4 - The Functional API](#4)\n",
    "    - [4.1 - Load the SIGNS Dataset](#4-1)\n",
    "    - [4.2 - Split the Data into Train/Test Sets](#4-2)\n",
    "    - [4.3 - Forward Propagation](#4-3)\n",
    "        - [Exercise 2 - convolutional_model](#ex-2)\n",
    "    - [4.4 - Train the Model](#4-4)\n",
    "- [5 - History Object](#5)\n",
    "- [6 - Bibliography](#6)"
   ]
  },
  {
   "cell_type": "markdown",
   "metadata": {},
   "source": [
    "<a name='1'></a>\n",
    "## 1 - Packages\n",
    "\n",
    "As usual, begin by loading in the packages."
   ]
  },
  {
   "cell_type": "code",
   "execution_count": null,
   "metadata": {},
   "outputs": [],
   "source": []
  },
  {
   "cell_type": "code",
   "execution_count": 49,
   "metadata": {},
   "outputs": [],
   "source": [
    "import tensorflow as tf"
   ]
  },
  {
   "cell_type": "code",
   "execution_count": 50,
   "metadata": {},
   "outputs": [],
   "source": [
    "import numpy as np\n",
    "import h5py\n",
    "import matplotlib.pyplot as plt\n",
    "from matplotlib.pyplot import imread\n",
    "import scipy\n",
    "from PIL import Image\n",
    "import pandas as pd\n",
    "import tensorflow as tf\n",
    "import tensorflow.keras.layers as tfl\n",
    "from tensorflow.python.framework import ops\n",
    "from cnn_utils import *\n",
    "from test_utils import summary, comparator\n",
    "\n",
    "%matplotlib inline\n",
    "np.random.seed(1)"
   ]
  },
  {
   "cell_type": "markdown",
   "metadata": {},
   "source": [
    "<a name='1-1'></a>\n",
    "### 1.1 - Load the Data and Split the Data into Train/Test Sets\n",
    "\n",
    "You'll be using the Happy House dataset for this part of the assignment, which contains images of peoples' faces. Your task will be to build a ConvNet that determines whether the people in the images are smiling or not -- because they only get to enter the house if they're smiling!  "
   ]
  },
  {
   "cell_type": "code",
   "execution_count": 51,
   "metadata": {},
   "outputs": [
    {
     "name": "stdout",
     "output_type": "stream",
     "text": [
      "number of training examples = 600\n",
      "number of test examples = 150\n",
      "X_train shape: (600, 64, 64, 3)\n",
      "Y_train shape: (600, 1)\n",
      "X_test shape: (150, 64, 64, 3)\n",
      "Y_test shape: (150, 1)\n"
     ]
    }
   ],
   "source": [
    "X_train_orig, Y_train_orig, X_test_orig, Y_test_orig, classes = load_happy_dataset()\n",
    "\n",
    "# Normalize image vectors\n",
    "X_train = X_train_orig/255.\n",
    "X_test = X_test_orig/255.\n",
    "\n",
    "# Reshape\n",
    "Y_train = Y_train_orig.T\n",
    "Y_test = Y_test_orig.T\n",
    "\n",
    "print (\"number of training examples = \" + str(X_train.shape[0]))\n",
    "print (\"number of test examples = \" + str(X_test.shape[0]))\n",
    "print (\"X_train shape: \" + str(X_train.shape))\n",
    "print (\"Y_train shape: \" + str(Y_train.shape))\n",
    "print (\"X_test shape: \" + str(X_test.shape))\n",
    "print (\"Y_test shape: \" + str(Y_test.shape))"
   ]
  },
  {
   "cell_type": "markdown",
   "metadata": {},
   "source": [
    "You can display the images contained in the dataset. Images are **64x64** pixels in RGB format (3 channels)."
   ]
  },
  {
   "cell_type": "code",
   "execution_count": 52,
   "metadata": {},
   "outputs": [
    {
     "data": {
      "image/png": "[encoded data removed]",
      "text/plain": [
       "<Figure size 640x480 with 1 Axes>"
      ]
     },
     "metadata": {},
     "output_type": "display_data"
    }
   ],
   "source": [
    "index = 124\n",
    "plt.imshow(X_train_orig[index]) #display sample training image\n",
    "plt.show()"
   ]
  },
  {
   "cell_type": "markdown",
   "metadata": {},
   "source": [
    "<a name='2'></a>\n",
    "## 2 - Layers in TF Keras \n",
    "\n",
    "In the previous assignment, you created layers manually in numpy. In TF Keras, you don't have to write code directly to create layers. Rather, TF Keras has pre-defined layers you can use. \n",
    "\n",
    "When you create a layer in TF Keras, you are creating a function that takes some input and transforms it into an output you can reuse later. Nice and easy! "
   ]
  },
  {
   "cell_type": "markdown",
   "metadata": {},
   "source": [
    "<a name='3'></a>\n",
    "## 3 - The Sequential API\n",
    "\n",
    "In the previous assignment, you built helper functions using `numpy` to understand the mechanics behind convolutional neural networks. Most practical applications of deep learning today are built using programming frameworks, which have many built-in functions you can simply call. Keras is a high-level abstraction built on top of TensorFlow, which allows for even more simplified and optimized model creation and training. \n",
    "\n",
    "For the first part of this assignment, you'll create a model using TF Keras' Sequential API, which allows you to build layer by layer, and is ideal for building models where each layer has **exactly one** input tensor and **one** output tensor. \n",
    "\n",
    "As you'll see, using the Sequential API is simple and straightforward, but is only appropriate for simpler, more straightforward tasks. Later in this notebook you'll spend some time building with a more flexible, powerful alternative: the Functional API. \n",
    " "
   ]
  },
  {
   "cell_type": "markdown",
   "metadata": {},
   "source": [
    "<a name='3-1'></a>\n",
    "### 3.1 - Create the Sequential Model\n",
    "\n",
    "As mentioned earlier, the TensorFlow Keras Sequential API can be used to build simple models with layer operations that proceed in a sequential order. \n",
    "\n",
    "You can also add layers incrementally to a Sequential model with the `.add()` method, or remove them using the `.pop()` method, much like you would in a regular Python list.\n",
    "\n",
    "Actually, you can think of a Sequential model as behaving like a list of layers. Like Python lists, Sequential layers are ordered, and the order in which they are specified matters.  If your model is non-linear or contains layers with multiple inputs or outputs, a Sequential model wouldn't be the right choice!\n",
    "\n",
    "For any layer construction in Keras, you'll need to specify the input shape in advance. This is because in Keras, the shape of the weights is based on the shape of the inputs. The weights are only created when the model first sees some input data. Sequential models can be created by passing a list of layers to the Sequential constructor, like you will do in the next assignment.\n",
    "\n",
    "<a name='ex-1'></a>\n",
    "### Exercise 1 - happyModel\n",
    "\n",
    "Implement the `happyModel` function below to build the following model: `ZEROPAD2D -> CONV2D -> BATCHNORM -> RELU -> MAXPOOL -> FLATTEN -> DENSE`. Take help from [tf.keras.layers](https://www.tensorflow.org/api_docs/python/tf/keras/layers) \n",
    "\n",
    "Also, plug in the following parameters for all the steps:\n",
    "\n",
    " - [ZeroPadding2D](https://www.tensorflow.org/api_docs/python/tf/keras/layers/ZeroPadding2D): padding 3, input shape 64 x 64 x 3\n",
    " - [Conv2D](https://www.tensorflow.org/api_docs/python/tf/keras/layers/Conv2D): Use 32 7x7 filters, stride 1\n",
    " - [BatchNormalization](https://www.tensorflow.org/api_docs/python/tf/keras/layers/BatchNormalization): for axis 3\n",
    " - [ReLU](https://www.tensorflow.org/api_docs/python/tf/keras/layers/ReLU)\n",
    " - [MaxPool2D](https://www.tensorflow.org/api_docs/python/tf/keras/layers/MaxPool2D): Using default parameters\n",
    " - [Flatten](https://www.tensorflow.org/api_docs/python/tf/keras/layers/Flatten) the previous output.\n",
    " - Fully-connected ([Dense](https://www.tensorflow.org/api_docs/python/tf/keras/layers/Dense)) layer: Apply a fully connected layer with 1 neuron and a sigmoid activation. \n",
    " \n",
    " \n",
    " **Hint:**\n",
    " \n",
    " Use **tfl** as shorthand for **tensorflow.keras.layers**"
   ]
  },
  {
   "cell_type": "code",
   "execution_count": 53,
   "metadata": {
    "deletable": false,
    "nbgrader": {
     "cell_type": "code",
     "checksum": "95d28b191f257bdd5b70c7b8952559d5",
     "grade": false,
     "grade_id": "cell-0e56d3fc28b69aec",
     "locked": false,
     "schema_version": 3,
     "solution": true,
     "task": false
    }
   },
   "outputs": [],
   "source": [
    "# GRADED FUNCTION: happyModel\n",
    "\n",
    "def happyModel():\n",
    "    \"\"\"\n",
    "    Implements the forward propagation for the binary classification model:\n",
    "    ZEROPAD2D -> CONV2D -> BATCHNORM -> RELU -> MAXPOOL -> FLATTEN -> DENSE\n",
    "    \n",
    "    Note that for simplicity and grading purposes, you'll hard-code all the values\n",
    "    such as the stride and kernel (filter) sizes. \n",
    "    Normally, functions should take these values as function parameters.\n",
    "    \n",
    "    Arguments:\n",
    "    None\n",
    "\n",
    "    Returns:\n",
    "    model -- TF Keras model (object containing the information for the entire training process) \n",
    "    \"\"\"\n",
    "    model = tf.keras.Sequential([\n",
    "            ## ZeroPadding2D with padding 3, input shape of 64 x 64 x 3\n",
    "            tf.keras.layers.ZeroPadding2D(padding=(3, 3), input_shape=(64, 64, 3)),\n",
    "            \n",
    "            ## Conv2D with 32 7x7 filters and stride of 1\n",
    "            tf.keras.layers.Conv2D(filters=32, kernel_size=(7, 7), strides=(1, 1),\n",
    "                                   name='conv_layer'),\n",
    "            \n",
    "            ## BatchNormalization for axis 3\n",
    "            tf.keras.layers.BatchNormalization(axis=3, name='batch_norm_layer'),\n",
    "            \n",
    "            ## ReLU\n",
    "            tf.keras.layers.ReLU(),\n",
    "            \n",
    "            ## Max Pooling 2D with default parameters\n",
    "            tf.keras.layers.MaxPooling2D(pool_size=(2, 2), name='maxpool_layer'),\n",
    "            \n",
    "            ## Flatten layer\n",
    "            tf.keras.layers.Flatten(name='flatten_layer'),\n",
    "            \n",
    "            ## Dense layer with 1 unit for output & 'sigmoid' activation\n",
    "            tf.keras.layers.Dense(units=1, activation='sigmoid', name='dense_layer')\n",
    "        ])\n",
    "    \n",
    "    return model"
   ]
  },
  {
   "cell_type": "code",
   "execution_count": 54,
   "metadata": {
    "deletable": false,
    "editable": false,
    "nbgrader": {
     "cell_type": "code",
     "checksum": "8d3575c950e2e78149be2d05d671c80d",
     "grade": true,
     "grade_id": "cell-e3e1046e5c33d775",
     "locked": true,
     "points": 10,
     "schema_version": 3,
     "solution": false,
     "task": false
    }
   },
   "outputs": [
    {
     "name": "stdout",
     "output_type": "stream",
     "text": [
      "['ZeroPadding2D', (None, 70, 70, 3), 0, ((3, 3), (3, 3))]\n",
      "['Conv2D', (None, 64, 64, 32), 4736, 'valid', 'linear', 'GlorotUniform']\n",
      "['BatchNormalization', (None, 64, 64, 32), 128]\n",
      "['ReLU', (None, 64, 64, 32), 0]\n",
      "['MaxPooling2D', (None, 32, 32, 32), 0, (2, 2), (2, 2), 'valid']\n",
      "['Flatten', (None, 32768), 0]\n",
      "['Dense', (None, 1), 32769, 'sigmoid']\n",
      "All tests passed!\n"
     ]
    }
   ],
   "source": [
    "happy_model = happyModel()\n",
    "# Print a summary for each layer\n",
    "for layer in summary(happy_model):\n",
    "    print(layer)\n",
    "    \n",
    "output = [['ZeroPadding2D', (None, 70, 70, 3), 0, ((3, 3), (3, 3))],\n",
    "            ['Conv2D', (None, 64, 64, 32), 4736, 'valid', 'linear', 'GlorotUniform'],\n",
    "            ['BatchNormalization', (None, 64, 64, 32), 128],\n",
    "            ['ReLU', (None, 64, 64, 32), 0],\n",
    "            ['MaxPooling2D', (None, 32, 32, 32), 0, (2, 2), (2, 2), 'valid'],\n",
    "            ['Flatten', (None, 32768), 0],\n",
    "            ['Dense', (None, 1), 32769, 'sigmoid']]\n",
    "    \n",
    "comparator(summary(happy_model), output)"
   ]
  },
  {
   "cell_type": "markdown",
   "metadata": {},
   "source": [
    "Now that your model is created, you can compile it for training with an optimizer and loss of your choice. When the string `accuracy` is specified as a metric, the type of accuracy used will be automatically converted based on the loss function used. This is one of the many optimizations built into TensorFlow that make your life easier! If you'd like to read more on how the compiler operates, check the docs [here](https://www.tensorflow.org/api_docs/python/tf/keras/Model#compile)."
   ]
  },
  {
   "cell_type": "code",
   "execution_count": 55,
   "metadata": {},
   "outputs": [],
   "source": [
    "happy_model.compile(optimizer='adam',\n",
    "                   loss='binary_crossentropy',\n",
    "                   metrics=['accuracy'])"
   ]
  },
  {
   "cell_type": "markdown",
   "metadata": {},
   "source": [
    "It's time to check your model's parameters with the `.summary()` method. This will display the types of layers you have, the shape of the outputs, and how many parameters are in each layer. "
   ]
  },
  {
   "cell_type": "code",
   "execution_count": 56,
   "metadata": {},
   "outputs": [
    {
     "name": "stdout",
     "output_type": "stream",
     "text": [
      "Model: \"sequential_7\"\n",
      "_________________________________________________________________\n",
      " Layer (type)                Output Shape              Param #   \n",
      "=================================================================\n",
      " zero_padding2d_12 (ZeroPadd  (None, 70, 70, 3)        0         \n",
      " ing2D)                                                          \n",
      "                                                                 \n",
      " conv_layer (Conv2D)         (None, 64, 64, 32)        4736      \n",
      "                                                                 \n",
      " batch_norm_layer (BatchNorm  (None, 64, 64, 32)       128       \n",
      " alization)                                                      \n",
      "                                                                 \n",
      " re_lu_2 (ReLU)              (None, 64, 64, 32)        0         \n",
      "                                                                 \n",
      " maxpool_layer (MaxPooling2D  (None, 32, 32, 32)       0         \n",
      " )                                                               \n",
      "                                                                 \n",
      " flatten_layer (Flatten)     (None, 32768)             0         \n",
      "                                                                 \n",
      " dense_layer (Dense)         (None, 1)                 32769     \n",
      "                                                                 \n",
      "=================================================================\n",
      "Total params: 37,633\n",
      "Trainable params: 37,569\n",
      "Non-trainable params: 64\n",
      "_________________________________________________________________\n"
     ]
    }
   ],
   "source": [
    "happy_model.summary()"
   ]
  },
  {
   "cell_type": "markdown",
   "metadata": {},
   "source": [
    "<a name='3-2'></a>\n",
    "### 3.2 - Train and Evaluate the Model\n",
    "\n",
    "After creating the model, compiling it with your choice of optimizer and loss function, and doing a sanity check on its contents, you are now ready to build! \n",
    "\n",
    "Simply call `.fit()` to train. That's it! No need for mini-batching, saving, or complex backpropagation computations. That's all been done for you, as you're using a TensorFlow dataset with the batches specified already. You do have the option to specify epoch number or minibatch size if you like (for example, in the case of an un-batched dataset)."
   ]
  },
  {
   "cell_type": "code",
   "execution_count": 57,
   "metadata": {},
   "outputs": [
    {
     "name": "stdout",
     "output_type": "stream",
     "text": [
      "Epoch 1/10\n",
      "38/38 [==============================] - 4s 50ms/step - loss: 0.6628 - accuracy: 0.7783\n",
      "Epoch 2/10\n",
      "38/38 [==============================] - 2s 50ms/step - loss: 0.2021 - accuracy: 0.9183\n",
      "Epoch 3/10\n",
      "38/38 [==============================] - 2s 51ms/step - loss: 0.1412 - accuracy: 0.9450\n",
      "Epoch 4/10\n",
      "38/38 [==============================] - 2s 51ms/step - loss: 0.1033 - accuracy: 0.9667\n",
      "Epoch 5/10\n",
      "38/38 [==============================] - 2s 52ms/step - loss: 0.1642 - accuracy: 0.9417\n",
      "Epoch 6/10\n",
      "38/38 [==============================] - 2s 49ms/step - loss: 0.1665 - accuracy: 0.9400\n",
      "Epoch 7/10\n",
      "38/38 [==============================] - 2s 51ms/step - loss: 0.0840 - accuracy: 0.9683\n",
      "Epoch 8/10\n",
      "38/38 [==============================] - 2s 53ms/step - loss: 0.0881 - accuracy: 0.9717\n",
      "Epoch 9/10\n",
      "38/38 [==============================] - 2s 50ms/step - loss: 0.0696 - accuracy: 0.9800\n",
      "Epoch 10/10\n",
      "38/38 [==============================] - 2s 51ms/step - loss: 0.0879 - accuracy: 0.9617\n"
     ]
    },
    {
     "data": {
      "text/plain": [
       "<keras.callbacks.History at 0x7fa41803e9d0>"
      ]
     },
     "execution_count": 57,
     "metadata": {},
     "output_type": "execute_result"
    }
   ],
   "source": [
    "happy_model.fit(X_train, Y_train, epochs=10, batch_size=16)"
   ]
  },
  {
   "cell_type": "markdown",
   "metadata": {},
   "source": [
    "After that completes, just use `.evaluate()` to evaluate against your test set. This function will print the value of the loss function and the performance metrics specified during the compilation of the model. In this case, the `binary_crossentropy` and the `accuracy` respectively."
   ]
  },
  {
   "cell_type": "code",
   "execution_count": 58,
   "metadata": {},
   "outputs": [
    {
     "name": "stdout",
     "output_type": "stream",
     "text": [
      "5/5 [==============================] - 0s 29ms/step - loss: 0.2716 - accuracy: 0.8600\n"
     ]
    },
    {
     "data": {
      "text/plain": [
       "[0.2715960741043091, 0.8600000143051147]"
      ]
     },
     "execution_count": 58,
     "metadata": {},
     "output_type": "execute_result"
    }
   ],
   "source": [
    "happy_model.evaluate(X_test, Y_test)"
   ]
  },
  {
   "cell_type": "markdown",
   "metadata": {},
   "source": [
    "Easy, right? But what if you need to build a model with shared layers, branches, or multiple inputs and outputs? This is where Sequential, with its beautifully simple yet limited functionality, won't be able to help you. \n",
    "\n",
    "Next up: Enter the Functional API, your slightly more complex, highly flexible friend.  "
   ]
  },
  {
   "cell_type": "markdown",
   "metadata": {},
   "source": [
    "<a name='4'></a>\n",
    "## 4 - The Functional API"
   ]
  },
  {
   "cell_type": "markdown",
   "metadata": {},
   "source": [
    "Welcome to the second half of the assignment, where you'll use Keras' flexible [Functional API](https://www.tensorflow.org/guide/keras/functional) to build a ConvNet that can differentiate between 6 sign language digits. \n",
    "\n",
    "The Functional API can handle models with non-linear topology, shared layers, as well as layers with multiple inputs or outputs. Imagine that, where the Sequential API requires the model to move in a linear fashion through its layers, the Functional API allows much more flexibility. Where Sequential is a straight line, a Functional model is a graph, where the nodes of the layers can connect in many more ways than one. \n",
    "\n",
    "In the visual example below, the one possible direction of the movement Sequential model is shown in contrast to a skip connection, which is just one of the many ways a Functional model can be constructed. A skip connection, as you might have guessed, skips some layer in the network and feeds the output to a later layer in the network. Don't worry, you'll be spending more time with skip connections very soon! "
   ]
  },
  {
   "cell_type": "markdown",
   "metadata": {},
   "source": [
    "<img src=\"images/seq_vs_func.png\" style=\"width:350px;height:200px;\">"
   ]
  },
  {
   "cell_type": "markdown",
   "metadata": {},
   "source": [
    "<a name='4-1'></a>\n",
    "### 4.1 - Load the SIGNS Dataset\n",
    "\n",
    "As a reminder, the SIGNS dataset is a collection of 6 signs representing numbers from 0 to 5."
   ]
  },
  {
   "cell_type": "code",
   "execution_count": 59,
   "metadata": {},
   "outputs": [],
   "source": [
    "# Loading the data (signs)\n",
    "X_train_orig, Y_train_orig, X_test_orig, Y_test_orig, classes = load_signs_dataset()"
   ]
  },
  {
   "cell_type": "markdown",
   "metadata": {},
   "source": [
    "<img src=\"images/SIGNS.png\" style=\"width:800px;height:300px;\">\n",
    "\n",
    "The next cell will show you an example of a labelled image in the dataset. Feel free to change the value of `index` below and re-run to see different examples. "
   ]
  },
  {
   "cell_type": "code",
   "execution_count": 60,
   "metadata": {},
   "outputs": [
    {
     "name": "stdout",
     "output_type": "stream",
     "text": [
      "y = 4\n"
     ]
    },
    {
     "data": {
      "image/png": "[encoded data removed]",
      "text/plain": [
       "<Figure size 640x480 with 1 Axes>"
      ]
     },
     "metadata": {},
     "output_type": "display_data"
    }
   ],
   "source": [
    "# Example of an image from the dataset\n",
    "index = 9\n",
    "plt.imshow(X_train_orig[index])\n",
    "print (\"y = \" + str(np.squeeze(Y_train_orig[:, index])))"
   ]
  },
  {
   "cell_type": "markdown",
   "metadata": {},
   "source": [
    "<a name='4-2'></a>\n",
    "### 4.2 - Split the Data into Train/Test Sets\n",
    "\n",
    "In Course 2, you built a fully-connected network for this dataset. But since this is an image dataset, it is more natural to apply a ConvNet to it.\n",
    "\n",
    "To get started, let's examine the shapes of your data. "
   ]
  },
  {
   "cell_type": "code",
   "execution_count": 61,
   "metadata": {},
   "outputs": [
    {
     "name": "stdout",
     "output_type": "stream",
     "text": [
      "number of training examples = 1080\n",
      "number of test examples = 120\n",
      "X_train shape: (1080, 64, 64, 3)\n",
      "Y_train shape: (1080, 6)\n",
      "X_test shape: (120, 64, 64, 3)\n",
      "Y_test shape: (120, 6)\n"
     ]
    }
   ],
   "source": [
    "X_train = X_train_orig/255.\n",
    "X_test = X_test_orig/255.\n",
    "Y_train = convert_to_one_hot(Y_train_orig, 6).T\n",
    "Y_test = convert_to_one_hot(Y_test_orig, 6).T\n",
    "print (\"number of training examples = \" + str(X_train.shape[0]))\n",
    "print (\"number of test examples = \" + str(X_test.shape[0]))\n",
    "print (\"X_train shape: \" + str(X_train.shape))\n",
    "print (\"Y_train shape: \" + str(Y_train.shape))\n",
    "print (\"X_test shape: \" + str(X_test.shape))\n",
    "print (\"Y_test shape: \" + str(Y_test.shape))"
   ]
  },
  {
   "cell_type": "markdown",
   "metadata": {},
   "source": [
    "<a name='4-3'></a>\n",
    "### 4.3 - Forward Propagation\n",
    "\n",
    "In TensorFlow, there are built-in functions that implement the convolution steps for you. By now, you should be familiar with how TensorFlow builds computational graphs. In the [Functional API](https://www.tensorflow.org/guide/keras/functional), you create a graph of layers. This is what allows such great flexibility.\n",
    "\n",
    "However, the following model could also be defined using the Sequential API since the information flow is on a single line. But don't deviate. What we want you to learn is to use the functional API.\n",
    "\n",
    "Begin building your graph of layers by creating an input node that functions as a callable object:\n",
    "\n",
    "- **input_img = tf.keras.Input(shape=input_shape):** \n",
    "\n",
    "Then, create a new node in the graph of layers by calling a layer on the `input_img` object: \n",
    "\n",
    "- **tf.keras.layers.Conv2D(filters= ... , kernel_size= ... , padding='same')(input_img):** Read the full documentation on [Conv2D](https://www.tensorflow.org/api_docs/python/tf/keras/layers/Conv2D).\n",
    "\n",
    "- **tf.keras.layers.MaxPool2D(pool_size=(f, f), strides=(s, s), padding='same'):** `MaxPool2D()` downsamples your input using a window of size (f, f) and strides of size (s, s) to carry out max pooling over each window.  For max pooling, you usually operate on a single example at a time and a single channel at a time. Read the full documentation on [MaxPool2D](https://www.tensorflow.org/api_docs/python/tf/keras/layers/MaxPool2D).\n",
    "\n",
    "- **tf.keras.layers.ReLU():** computes the elementwise ReLU of Z (which can be any shape). You can read the full documentation on [ReLU](https://www.tensorflow.org/api_docs/python/tf/keras/layers/ReLU).\n",
    "\n",
    "- **tf.keras.layers.Flatten()**: given a tensor \"P\", this function takes each training (or test) example in the batch and flattens it into a 1D vector.  \n",
    "\n",
    "    * If a tensor P has the shape (batch_size,h,w,c), it returns a flattened tensor with shape (batch_size, k), where $k=h \\times w \\times c$.  \"k\" equals the product of all the dimension sizes other than the first dimension.\n",
    "    \n",
    "    * For example, given a tensor with dimensions [100, 2, 3, 4], it flattens the tensor to be of shape [100, 24], where 24 = 2 * 3 * 4.  You can read the full documentation on [Flatten](https://www.tensorflow.org/api_docs/python/tf/keras/layers/Flatten).\n",
    "\n",
    "- **tf.keras.layers.Dense(units= ... , activation='softmax')(F):** given the flattened input F, it returns the output computed using a fully connected layer. You can read the full documentation on [Dense](https://www.tensorflow.org/api_docs/python/tf/keras/layers/Dense).\n",
    "\n",
    "In the last function above (`tf.keras.layers.Dense()`), the fully connected layer automatically initializes weights in the graph and keeps on training them as you train the model. Hence, you did not need to initialize those weights when initializing the parameters.\n",
    "\n",
    "Lastly, before creating the model, you'll need to define the output using the last of the function's compositions (in this example, a Dense layer): \n",
    "\n",
    "- **outputs = tf.keras.layers.Dense(units=6, activation='softmax')(F)**\n",
    "\n",
    "\n",
    "#### Window, kernel, filter, pool\n",
    "\n",
    "The words \"kernel\" and \"filter\" are used to refer to the same thing. The word \"filter\" accounts for the amount of \"kernels\" that will be used in a single convolution layer. \"Pool\" is the name of the operation that takes the max or average value of the kernels. \n",
    "\n",
    "This is why the parameter `pool_size` refers to `kernel_size`, and you use `(f,f)` to refer to the filter size. \n",
    "\n",
    "Pool size and kernel size refer to the same thing in different objects - They refer to the shape of the window where the operation takes place. "
   ]
  },
  {
   "cell_type": "markdown",
   "metadata": {},
   "source": [
    "<a name='ex-2'></a>\n",
    "### Exercise 2 - convolutional_model\n",
    "\n",
    "Implement the `convolutional_model` function below to build the following model: `CONV2D -> RELU -> MAXPOOL -> CONV2D -> RELU -> MAXPOOL -> FLATTEN -> DENSE`. Use the functions above! \n",
    "\n",
    "Also, plug in the following parameters for all the steps:\n",
    "\n",
    " - [Conv2D](https://www.tensorflow.org/api_docs/python/tf/keras/layers/Conv2D): Use 8 4 by 4 filters, stride 1, padding is \"SAME\"\n",
    " - [ReLU](https://www.tensorflow.org/api_docs/python/tf/keras/layers/ReLU)\n",
    " - [MaxPool2D](https://www.tensorflow.org/api_docs/python/tf/keras/layers/MaxPool2D): Use an 8 by 8 filter size and an 8 by 8 stride, padding is \"SAME\"\n",
    " - **Conv2D**: Use 16 2 by 2 filters, stride 1, padding is \"SAME\"\n",
    " - **ReLU**\n",
    " - **MaxPool2D**: Use a 4 by 4 filter size and a 4 by 4 stride, padding is \"SAME\"\n",
    " - [Flatten](https://www.tensorflow.org/api_docs/python/tf/keras/layers/Flatten) the previous output.\n",
    " - Fully-connected ([Dense](https://www.tensorflow.org/api_docs/python/tf/keras/layers/Dense)) layer: Apply a fully connected layer with 6 neurons and a softmax activation. "
   ]
  },
  {
   "cell_type": "code",
   "execution_count": 101,
   "metadata": {
    "deletable": false,
    "nbgrader": {
     "cell_type": "code",
     "checksum": "f58643806aa8380c96225fc8b4c5e7aa",
     "grade": false,
     "grade_id": "cell-dac51744a9e03f51",
     "locked": false,
     "schema_version": 3,
     "solution": true,
     "task": false
    }
   },
   "outputs": [],
   "source": [
    "# GRADED FUNCTION: convolutional_model\n",
    "from tensorflow.keras.layers import Input\n",
    "from tensorflow.keras.layers import ZeroPadding2D\n",
    "from tensorflow.keras.layers import Conv2D\n",
    "from tensorflow.keras.layers import BatchNormalization\n",
    "from tensorflow.keras.layers import ReLU\n",
    "from tensorflow.keras.layers import MaxPooling2D\n",
    "from tensorflow.keras.layers import Flatten\n",
    "from tensorflow.keras.layers import Dense\n",
    "from tensorflow.keras.models import Model\n",
    "\n",
    "\n",
    "def convolutional_model(input_shape):\n",
    "    \"\"\"\n",
    "    Implements the forward propagation for the model:\n",
    "    CONV2D -> RELU -> MAXPOOL -> CONV2D -> RELU -> MAXPOOL -> FLATTEN -> DENSE\n",
    "    \n",
    "    Note that for simplicity and grading purposes, you'll hard-code some values\n",
    "    such as the stride and kernel (filter) sizes. \n",
    "    Normally, functions should take these values as function parameters.\n",
    "    \n",
    "    Arguments:\n",
    "    input_img -- input dataset, of shape (input_shape)\n",
    "\n",
    "    Returns:\n",
    "    model -- TF Keras model (object containing the information for the entire training process) \n",
    "    \"\"\"\n",
    "\n",
    "    ## CONV2D: 8 filters 4x4, stride of 1, padding 'SAME'\n",
    "    # Z1 = None\n",
    "    ## RELU\n",
    "    # A1 = None\n",
    "    ## MAXPOOL: window 8x8, stride 8, padding 'SAME'\n",
    "    # P1 = None\n",
    "    ## CONV2D: 16 filters 2x2, stride 1, padding 'SAME'\n",
    "    # Z2 = None\n",
    "    ## RELU\n",
    "    # A2 = None\n",
    "    ## MAXPOOL: window 4x4, stride 4, padding 'SAME'\n",
    "    # P2 = None\n",
    "    ## FLATTEN\n",
    "    # F = None\n",
    "    ## Dense layer\n",
    "    ## 6 neurons in output layer. Hint: one of the arguments should be \"activation='softmax'\" \n",
    "    # outputs = None\n",
    "    # YOUR CODE STARTS HERE\n",
    "    \n",
    "    X_input = Input(shape=input_shape)\n",
    "    \n",
    "    X = Conv2D(8, (4, 4),  padding=\"same\", strides = (1, 1), name = 'conv1')(X_input)\n",
    "    X = ReLU()(X)\n",
    "    X = MaxPooling2D((8, 8), padding=\"same\",name='max_pool')(X)\n",
    "    X = Conv2D(16, (2, 2), padding=\"same\", strides = (1, 1), name = 'conv2')(X)\n",
    "    X = ReLU()(X)\n",
    "    X = MaxPooling2D((4, 4),padding=\"same\", name='max_pool_2')(X)\n",
    "    X = Flatten()(X)\n",
    "        \n",
    "    \n",
    "    X = Dense(6, activation='softmax', name='fc')(X)\n",
    "    \n",
    "    model = tf.keras.Model(inputs = X_input, outputs = X, name='HappyModel')\n",
    "\n",
    "    # YOUR CODE ENDS HERE\n",
    "    #model = tf.keras.Model(inputs=input_img, outputs=outputs)\n",
    "    return model"
   ]
  },
  {
   "cell_type": "code",
   "execution_count": 102,
   "metadata": {
    "deletable": false,
    "editable": false,
    "nbgrader": {
     "cell_type": "code",
     "checksum": "483d626949930a0b0ef20997e7c6ba72",
     "grade": true,
     "grade_id": "cell-45d22e92042174c9",
     "locked": true,
     "points": 10,
     "schema_version": 3,
     "solution": false,
     "task": false
    }
   },
   "outputs": [
    {
     "name": "stdout",
     "output_type": "stream",
     "text": [
      "Model: \"HappyModel\"\n",
      "_________________________________________________________________\n",
      " Layer (type)                Output Shape              Param #   \n",
      "=================================================================\n",
      " input_37 (InputLayer)       [(None, 64, 64, 3)]       0         \n",
      "                                                                 \n",
      " conv1 (Conv2D)              (None, 64, 64, 8)         392       \n",
      "                                                                 \n",
      " re_lu_8 (ReLU)              (None, 64, 64, 8)         0         \n",
      "                                                                 \n",
      " max_pool (MaxPooling2D)     (None, 8, 8, 8)           0         \n",
      "                                                                 \n",
      " conv2 (Conv2D)              (None, 8, 8, 16)          528       \n",
      "                                                                 \n",
      " re_lu_9 (ReLU)              (None, 8, 8, 16)          0         \n",
      "                                                                 \n",
      " max_pool_2 (MaxPooling2D)   (None, 2, 2, 16)          0         \n",
      "                                                                 \n",
      " flatten_16 (Flatten)        (None, 64)                0         \n",
      "                                                                 \n",
      " fc (Dense)                  (None, 6)                 390       \n",
      "                                                                 \n",
      "=================================================================\n",
      "Total params: 1,310\n",
      "Trainable params: 1,310\n",
      "Non-trainable params: 0\n",
      "_________________________________________________________________\n",
      "All tests passed!\n"
     ]
    }
   ],
   "source": [
    "conv_model = convolutional_model((64, 64, 3))\n",
    "conv_model.compile(optimizer='adam',\n",
    "                  loss='categorical_crossentropy',\n",
    "                  metrics=['accuracy'])\n",
    "conv_model.summary()\n",
    "    \n",
    "output = [['InputLayer', [(None, 64, 64, 3)], 0],\n",
    "        ['Conv2D', (None, 64, 64, 8), 392, 'same', 'linear', 'GlorotUniform'],\n",
    "        ['ReLU', (None, 64, 64, 8), 0],\n",
    "        ['MaxPooling2D', (None, 8, 8, 8), 0, (8, 8), (8, 8), 'same'],\n",
    "        ['Conv2D', (None, 8, 8, 16), 528, 'same', 'linear', 'GlorotUniform'],\n",
    "        ['ReLU', (None, 8, 8, 16), 0],\n",
    "        ['MaxPooling2D', (None, 2, 2, 16), 0, (4, 4), (4, 4), 'same'],\n",
    "        ['Flatten', (None, 64), 0],\n",
    "        ['Dense', (None, 6), 390, 'softmax']]\n",
    "    \n",
    "comparator(summary(conv_model), output)"
   ]
  },
  {
   "cell_type": "markdown",
   "metadata": {},
   "source": [
    "Both the Sequential and Functional APIs return a TF Keras model object. The only difference is how inputs are handled inside the object model! "
   ]
  },
  {
   "cell_type": "markdown",
   "metadata": {},
   "source": [
    "<a name='4-4'></a>\n",
    "### 4.4 - Train the Model"
   ]
  },
  {
   "cell_type": "code",
   "execution_count": 103,
   "metadata": {},
   "outputs": [
    {
     "name": "stdout",
     "output_type": "stream",
     "text": [
      "Epoch 1/100\n"
     ]
    },
    {
     "name": "stderr",
     "output_type": "stream",
     "text": [
      "2023-03-30 16:58:14.128540: I tensorflow/core/common_runtime/executor.cc:1197] [/device:CPU:0] (DEBUG INFO) Executor start aborting (this does not indicate an error and you can ignore this message): INVALID_ARGUMENT: You must feed a value for placeholder tensor 'Placeholder/_1' with dtype double and shape [1080,6]\n",
      "\t [[{{node Placeholder/_1}}]]\n"
     ]
    },
    {
     "name": "stdout",
     "output_type": "stream",
     "text": [
      "17/17 [==============================] - 1s 35ms/step - loss: 1.8073 - accuracy: 0.1713 - val_loss: 1.7895 - val_accuracy: 0.1500\n",
      "Epoch 2/100\n",
      " 3/17 [====>.........................] - ETA: 0s - loss: 1.7892 - accuracy: 0.1719"
     ]
    },
    {
     "name": "stderr",
     "output_type": "stream",
     "text": [
      "2023-03-30 16:58:15.198606: I tensorflow/core/common_runtime/executor.cc:1197] [/device:CPU:0] (DEBUG INFO) Executor start aborting (this does not indicate an error and you can ignore this message): INVALID_ARGUMENT: You must feed a value for placeholder tensor 'Placeholder/_1' with dtype double and shape [120,6]\n",
      "\t [[{{node Placeholder/_1}}]]\n"
     ]
    },
    {
     "name": "stdout",
     "output_type": "stream",
     "text": [
      "17/17 [==============================] - 0s 26ms/step - loss: 1.7871 - accuracy: 0.1972 - val_loss: 1.7864 - val_accuracy: 0.1917\n",
      "Epoch 3/100\n",
      "17/17 [==============================] - 0s 26ms/step - loss: 1.7811 - accuracy: 0.2204 - val_loss: 1.7806 - val_accuracy: 0.2583\n",
      "Epoch 4/100\n",
      "17/17 [==============================] - 0s 26ms/step - loss: 1.7739 - accuracy: 0.3083 - val_loss: 1.7738 - val_accuracy: 0.3167\n",
      "Epoch 5/100\n",
      "17/17 [==============================] - 0s 26ms/step - loss: 1.7611 - accuracy: 0.3537 - val_loss: 1.7638 - val_accuracy: 0.3500\n",
      "Epoch 6/100\n",
      "17/17 [==============================] - 1s 30ms/step - loss: 1.7426 - accuracy: 0.3296 - val_loss: 1.7468 - val_accuracy: 0.3667\n",
      "Epoch 7/100\n",
      "17/17 [==============================] - 0s 27ms/step - loss: 1.7166 - accuracy: 0.3759 - val_loss: 1.7272 - val_accuracy: 0.4000\n",
      "Epoch 8/100\n",
      "17/17 [==============================] - 0s 26ms/step - loss: 1.6850 - accuracy: 0.4111 - val_loss: 1.6993 - val_accuracy: 0.4000\n",
      "Epoch 9/100\n",
      "17/17 [==============================] - 0s 26ms/step - loss: 1.6466 - accuracy: 0.4380 - val_loss: 1.6683 - val_accuracy: 0.4083\n",
      "Epoch 10/100\n",
      "17/17 [==============================] - 0s 28ms/step - loss: 1.6027 - accuracy: 0.4444 - val_loss: 1.6282 - val_accuracy: 0.3917\n",
      "Epoch 11/100\n",
      "17/17 [==============================] - 0s 26ms/step - loss: 1.5509 - accuracy: 0.4759 - val_loss: 1.5823 - val_accuracy: 0.4583\n",
      "Epoch 12/100\n",
      "17/17 [==============================] - 0s 26ms/step - loss: 1.4966 - accuracy: 0.4991 - val_loss: 1.5288 - val_accuracy: 0.4750\n",
      "Epoch 13/100\n",
      "17/17 [==============================] - 0s 26ms/step - loss: 1.4413 - accuracy: 0.5130 - val_loss: 1.4788 - val_accuracy: 0.4833\n",
      "Epoch 14/100\n",
      "17/17 [==============================] - 0s 26ms/step - loss: 1.3871 - accuracy: 0.5380 - val_loss: 1.4299 - val_accuracy: 0.4833\n",
      "Epoch 15/100\n",
      "17/17 [==============================] - 0s 27ms/step - loss: 1.3394 - accuracy: 0.5528 - val_loss: 1.3839 - val_accuracy: 0.4750\n",
      "Epoch 16/100\n",
      "17/17 [==============================] - 0s 25ms/step - loss: 1.2937 - accuracy: 0.5657 - val_loss: 1.3442 - val_accuracy: 0.4750\n",
      "Epoch 17/100\n",
      "17/17 [==============================] - 0s 28ms/step - loss: 1.2534 - accuracy: 0.5824 - val_loss: 1.3048 - val_accuracy: 0.4833\n",
      "Epoch 18/100\n",
      "17/17 [==============================] - 0s 27ms/step - loss: 1.2164 - accuracy: 0.5898 - val_loss: 1.2718 - val_accuracy: 0.4750\n",
      "Epoch 19/100\n",
      "17/17 [==============================] - 0s 25ms/step - loss: 1.1798 - accuracy: 0.6037 - val_loss: 1.2344 - val_accuracy: 0.5167\n",
      "Epoch 20/100\n",
      "17/17 [==============================] - 0s 28ms/step - loss: 1.1447 - accuracy: 0.6176 - val_loss: 1.2008 - val_accuracy: 0.5167\n",
      "Epoch 21/100\n",
      "17/17 [==============================] - 1s 29ms/step - loss: 1.1121 - accuracy: 0.6250 - val_loss: 1.1708 - val_accuracy: 0.5250\n",
      "Epoch 22/100\n",
      "17/17 [==============================] - 0s 26ms/step - loss: 1.0832 - accuracy: 0.6417 - val_loss: 1.1417 - val_accuracy: 0.5167\n",
      "Epoch 23/100\n",
      "17/17 [==============================] - 0s 27ms/step - loss: 1.0548 - accuracy: 0.6519 - val_loss: 1.1141 - val_accuracy: 0.5500\n",
      "Epoch 24/100\n",
      "17/17 [==============================] - 0s 27ms/step - loss: 1.0284 - accuracy: 0.6648 - val_loss: 1.0869 - val_accuracy: 0.5667\n",
      "Epoch 25/100\n",
      "17/17 [==============================] - 0s 28ms/step - loss: 1.0021 - accuracy: 0.6833 - val_loss: 1.0653 - val_accuracy: 0.5917\n",
      "Epoch 26/100\n",
      "17/17 [==============================] - 0s 28ms/step - loss: 0.9784 - accuracy: 0.6889 - val_loss: 1.0419 - val_accuracy: 0.5917\n",
      "Epoch 27/100\n",
      "17/17 [==============================] - 0s 27ms/step - loss: 0.9543 - accuracy: 0.6944 - val_loss: 1.0212 - val_accuracy: 0.6000\n",
      "Epoch 28/100\n",
      "17/17 [==============================] - 1s 31ms/step - loss: 0.9316 - accuracy: 0.7000 - val_loss: 1.0016 - val_accuracy: 0.6167\n",
      "Epoch 29/100\n",
      "17/17 [==============================] - 0s 28ms/step - loss: 0.9098 - accuracy: 0.7083 - val_loss: 0.9805 - val_accuracy: 0.6000\n",
      "Epoch 30/100\n",
      "17/17 [==============================] - 0s 28ms/step - loss: 0.8904 - accuracy: 0.7139 - val_loss: 0.9647 - val_accuracy: 0.6250\n",
      "Epoch 31/100\n",
      "17/17 [==============================] - 1s 30ms/step - loss: 0.8690 - accuracy: 0.7213 - val_loss: 0.9437 - val_accuracy: 0.6250\n",
      "Epoch 32/100\n",
      "17/17 [==============================] - 0s 28ms/step - loss: 0.8508 - accuracy: 0.7222 - val_loss: 0.9280 - val_accuracy: 0.6417\n",
      "Epoch 33/100\n",
      "17/17 [==============================] - 0s 28ms/step - loss: 0.8331 - accuracy: 0.7324 - val_loss: 0.9110 - val_accuracy: 0.6333\n",
      "Epoch 34/100\n",
      "17/17 [==============================] - 0s 26ms/step - loss: 0.8163 - accuracy: 0.7370 - val_loss: 0.8978 - val_accuracy: 0.6417\n",
      "Epoch 35/100\n",
      "17/17 [==============================] - 0s 26ms/step - loss: 0.7997 - accuracy: 0.7426 - val_loss: 0.8826 - val_accuracy: 0.6500\n",
      "Epoch 36/100\n",
      "17/17 [==============================] - 0s 25ms/step - loss: 0.7814 - accuracy: 0.7500 - val_loss: 0.8682 - val_accuracy: 0.6500\n",
      "Epoch 37/100\n",
      "17/17 [==============================] - 0s 28ms/step - loss: 0.7664 - accuracy: 0.7574 - val_loss: 0.8562 - val_accuracy: 0.6583\n",
      "Epoch 38/100\n",
      "17/17 [==============================] - 0s 28ms/step - loss: 0.7522 - accuracy: 0.7648 - val_loss: 0.8438 - val_accuracy: 0.6667\n",
      "Epoch 39/100\n",
      "17/17 [==============================] - 0s 27ms/step - loss: 0.7378 - accuracy: 0.7704 - val_loss: 0.8308 - val_accuracy: 0.6750\n",
      "Epoch 40/100\n",
      "17/17 [==============================] - 0s 26ms/step - loss: 0.7249 - accuracy: 0.7750 - val_loss: 0.8226 - val_accuracy: 0.6750\n",
      "Epoch 41/100\n",
      "17/17 [==============================] - 0s 28ms/step - loss: 0.7118 - accuracy: 0.7787 - val_loss: 0.8078 - val_accuracy: 0.6917\n",
      "Epoch 42/100\n",
      "17/17 [==============================] - 0s 29ms/step - loss: 0.6999 - accuracy: 0.7843 - val_loss: 0.7990 - val_accuracy: 0.6917\n",
      "Epoch 43/100\n",
      "17/17 [==============================] - 0s 27ms/step - loss: 0.6875 - accuracy: 0.7870 - val_loss: 0.7895 - val_accuracy: 0.6917\n",
      "Epoch 44/100\n",
      "17/17 [==============================] - 0s 26ms/step - loss: 0.6744 - accuracy: 0.7917 - val_loss: 0.7818 - val_accuracy: 0.6917\n",
      "Epoch 45/100\n",
      "17/17 [==============================] - 0s 27ms/step - loss: 0.6638 - accuracy: 0.7907 - val_loss: 0.7728 - val_accuracy: 0.6917\n",
      "Epoch 46/100\n",
      "17/17 [==============================] - 0s 28ms/step - loss: 0.6534 - accuracy: 0.7991 - val_loss: 0.7614 - val_accuracy: 0.7083\n",
      "Epoch 47/100\n",
      "17/17 [==============================] - 0s 27ms/step - loss: 0.6423 - accuracy: 0.8037 - val_loss: 0.7542 - val_accuracy: 0.6917\n",
      "Epoch 48/100\n",
      "17/17 [==============================] - 0s 26ms/step - loss: 0.6328 - accuracy: 0.8046 - val_loss: 0.7453 - val_accuracy: 0.6917\n",
      "Epoch 49/100\n",
      "17/17 [==============================] - 0s 29ms/step - loss: 0.6227 - accuracy: 0.8037 - val_loss: 0.7357 - val_accuracy: 0.7167\n",
      "Epoch 50/100\n",
      "17/17 [==============================] - 0s 27ms/step - loss: 0.6122 - accuracy: 0.8120 - val_loss: 0.7296 - val_accuracy: 0.7167\n",
      "Epoch 51/100\n",
      "17/17 [==============================] - 0s 25ms/step - loss: 0.6024 - accuracy: 0.8139 - val_loss: 0.7231 - val_accuracy: 0.7083\n",
      "Epoch 52/100\n",
      "17/17 [==============================] - 0s 28ms/step - loss: 0.5925 - accuracy: 0.8176 - val_loss: 0.7176 - val_accuracy: 0.7083\n",
      "Epoch 53/100\n",
      "17/17 [==============================] - 1s 29ms/step - loss: 0.5836 - accuracy: 0.8222 - val_loss: 0.7093 - val_accuracy: 0.7083\n",
      "Epoch 54/100\n",
      "17/17 [==============================] - 0s 27ms/step - loss: 0.5751 - accuracy: 0.8222 - val_loss: 0.7032 - val_accuracy: 0.7083\n",
      "Epoch 55/100\n",
      "17/17 [==============================] - 0s 26ms/step - loss: 0.5666 - accuracy: 0.8241 - val_loss: 0.6953 - val_accuracy: 0.7167\n",
      "Epoch 56/100\n",
      "17/17 [==============================] - 0s 25ms/step - loss: 0.5592 - accuracy: 0.8231 - val_loss: 0.6906 - val_accuracy: 0.7167\n",
      "Epoch 57/100\n",
      "17/17 [==============================] - 0s 26ms/step - loss: 0.5511 - accuracy: 0.8296 - val_loss: 0.6817 - val_accuracy: 0.7417\n",
      "Epoch 58/100\n",
      "17/17 [==============================] - 0s 26ms/step - loss: 0.5434 - accuracy: 0.8306 - val_loss: 0.6773 - val_accuracy: 0.7417\n",
      "Epoch 59/100\n"
     ]
    },
    {
     "name": "stdout",
     "output_type": "stream",
     "text": [
      "17/17 [==============================] - 0s 26ms/step - loss: 0.5361 - accuracy: 0.8343 - val_loss: 0.6708 - val_accuracy: 0.7417\n",
      "Epoch 60/100\n",
      "17/17 [==============================] - 0s 28ms/step - loss: 0.5285 - accuracy: 0.8370 - val_loss: 0.6653 - val_accuracy: 0.7417\n",
      "Epoch 61/100\n",
      "17/17 [==============================] - 0s 25ms/step - loss: 0.5213 - accuracy: 0.8389 - val_loss: 0.6597 - val_accuracy: 0.7417\n",
      "Epoch 62/100\n",
      "17/17 [==============================] - 0s 25ms/step - loss: 0.5145 - accuracy: 0.8389 - val_loss: 0.6539 - val_accuracy: 0.7417\n",
      "Epoch 63/100\n",
      "17/17 [==============================] - 1s 27ms/step - loss: 0.5076 - accuracy: 0.8426 - val_loss: 0.6497 - val_accuracy: 0.7417\n",
      "Epoch 64/100\n",
      "17/17 [==============================] - 0s 26ms/step - loss: 0.5011 - accuracy: 0.8444 - val_loss: 0.6439 - val_accuracy: 0.7500\n",
      "Epoch 65/100\n",
      "17/17 [==============================] - 0s 25ms/step - loss: 0.4945 - accuracy: 0.8481 - val_loss: 0.6417 - val_accuracy: 0.7417\n",
      "Epoch 66/100\n",
      "17/17 [==============================] - 0s 26ms/step - loss: 0.4883 - accuracy: 0.8481 - val_loss: 0.6347 - val_accuracy: 0.7583\n",
      "Epoch 67/100\n",
      "17/17 [==============================] - 0s 27ms/step - loss: 0.4820 - accuracy: 0.8509 - val_loss: 0.6324 - val_accuracy: 0.7500\n",
      "Epoch 68/100\n",
      "17/17 [==============================] - 0s 27ms/step - loss: 0.4759 - accuracy: 0.8528 - val_loss: 0.6274 - val_accuracy: 0.7583\n",
      "Epoch 69/100\n",
      "17/17 [==============================] - 1s 32ms/step - loss: 0.4702 - accuracy: 0.8528 - val_loss: 0.6244 - val_accuracy: 0.7500\n",
      "Epoch 70/100\n",
      "17/17 [==============================] - 1s 36ms/step - loss: 0.4646 - accuracy: 0.8528 - val_loss: 0.6199 - val_accuracy: 0.7500\n",
      "Epoch 71/100\n",
      "17/17 [==============================] - 0s 28ms/step - loss: 0.4591 - accuracy: 0.8546 - val_loss: 0.6161 - val_accuracy: 0.7500\n",
      "Epoch 72/100\n",
      "17/17 [==============================] - 0s 25ms/step - loss: 0.4540 - accuracy: 0.8574 - val_loss: 0.6128 - val_accuracy: 0.7500\n",
      "Epoch 73/100\n",
      "17/17 [==============================] - 0s 27ms/step - loss: 0.4489 - accuracy: 0.8574 - val_loss: 0.6096 - val_accuracy: 0.7417\n",
      "Epoch 74/100\n",
      "17/17 [==============================] - 0s 29ms/step - loss: 0.4435 - accuracy: 0.8602 - val_loss: 0.6071 - val_accuracy: 0.7417\n",
      "Epoch 75/100\n",
      "17/17 [==============================] - 0s 28ms/step - loss: 0.4383 - accuracy: 0.8639 - val_loss: 0.6034 - val_accuracy: 0.7500\n",
      "Epoch 76/100\n",
      "17/17 [==============================] - 0s 28ms/step - loss: 0.4336 - accuracy: 0.8657 - val_loss: 0.6008 - val_accuracy: 0.7583\n",
      "Epoch 77/100\n",
      "17/17 [==============================] - 0s 25ms/step - loss: 0.4290 - accuracy: 0.8694 - val_loss: 0.5980 - val_accuracy: 0.7583\n",
      "Epoch 78/100\n",
      "17/17 [==============================] - 0s 25ms/step - loss: 0.4243 - accuracy: 0.8694 - val_loss: 0.5958 - val_accuracy: 0.7667\n",
      "Epoch 79/100\n",
      "17/17 [==============================] - 1s 32ms/step - loss: 0.4197 - accuracy: 0.8713 - val_loss: 0.5935 - val_accuracy: 0.7667\n",
      "Epoch 80/100\n",
      "17/17 [==============================] - 1s 31ms/step - loss: 0.4155 - accuracy: 0.8722 - val_loss: 0.5917 - val_accuracy: 0.7667\n",
      "Epoch 81/100\n",
      "17/17 [==============================] - 1s 33ms/step - loss: 0.4112 - accuracy: 0.8741 - val_loss: 0.5901 - val_accuracy: 0.7667\n",
      "Epoch 82/100\n",
      "17/17 [==============================] - 1s 30ms/step - loss: 0.4072 - accuracy: 0.8796 - val_loss: 0.5891 - val_accuracy: 0.7667\n",
      "Epoch 83/100\n",
      "17/17 [==============================] - 1s 30ms/step - loss: 0.4032 - accuracy: 0.8824 - val_loss: 0.5856 - val_accuracy: 0.7667\n",
      "Epoch 84/100\n",
      "17/17 [==============================] - 1s 32ms/step - loss: 0.3991 - accuracy: 0.8833 - val_loss: 0.5849 - val_accuracy: 0.7667\n",
      "Epoch 85/100\n",
      "17/17 [==============================] - 0s 29ms/step - loss: 0.3953 - accuracy: 0.8833 - val_loss: 0.5837 - val_accuracy: 0.7667\n",
      "Epoch 86/100\n",
      "17/17 [==============================] - 1s 29ms/step - loss: 0.3919 - accuracy: 0.8861 - val_loss: 0.5828 - val_accuracy: 0.7750\n",
      "Epoch 87/100\n",
      "17/17 [==============================] - 0s 29ms/step - loss: 0.3880 - accuracy: 0.8870 - val_loss: 0.5812 - val_accuracy: 0.7750\n",
      "Epoch 88/100\n",
      "17/17 [==============================] - 1s 30ms/step - loss: 0.3845 - accuracy: 0.8870 - val_loss: 0.5799 - val_accuracy: 0.7750\n",
      "Epoch 89/100\n",
      "17/17 [==============================] - 0s 28ms/step - loss: 0.3813 - accuracy: 0.8880 - val_loss: 0.5805 - val_accuracy: 0.7750\n",
      "Epoch 90/100\n",
      "17/17 [==============================] - 0s 28ms/step - loss: 0.3782 - accuracy: 0.8861 - val_loss: 0.5799 - val_accuracy: 0.7750\n",
      "Epoch 91/100\n",
      "17/17 [==============================] - 0s 27ms/step - loss: 0.3754 - accuracy: 0.8880 - val_loss: 0.5809 - val_accuracy: 0.7750\n",
      "Epoch 92/100\n",
      "17/17 [==============================] - 0s 25ms/step - loss: 0.3727 - accuracy: 0.8889 - val_loss: 0.5802 - val_accuracy: 0.7750\n",
      "Epoch 93/100\n",
      "17/17 [==============================] - 0s 26ms/step - loss: 0.3700 - accuracy: 0.8898 - val_loss: 0.5823 - val_accuracy: 0.7750\n",
      "Epoch 94/100\n",
      "17/17 [==============================] - 0s 28ms/step - loss: 0.3676 - accuracy: 0.8917 - val_loss: 0.5825 - val_accuracy: 0.7750\n",
      "Epoch 95/100\n",
      "17/17 [==============================] - 0s 28ms/step - loss: 0.3652 - accuracy: 0.8935 - val_loss: 0.5834 - val_accuracy: 0.7750\n",
      "Epoch 96/100\n",
      "17/17 [==============================] - 0s 26ms/step - loss: 0.3627 - accuracy: 0.8917 - val_loss: 0.5847 - val_accuracy: 0.7750\n",
      "Epoch 97/100\n",
      "17/17 [==============================] - 0s 26ms/step - loss: 0.3607 - accuracy: 0.8935 - val_loss: 0.5857 - val_accuracy: 0.7750\n",
      "Epoch 98/100\n",
      "17/17 [==============================] - 0s 25ms/step - loss: 0.3588 - accuracy: 0.8944 - val_loss: 0.5874 - val_accuracy: 0.7750\n",
      "Epoch 99/100\n",
      "17/17 [==============================] - 0s 26ms/step - loss: 0.3567 - accuracy: 0.8954 - val_loss: 0.5872 - val_accuracy: 0.7750\n",
      "Epoch 100/100\n",
      "17/17 [==============================] - 0s 27ms/step - loss: 0.3545 - accuracy: 0.8944 - val_loss: 0.5882 - val_accuracy: 0.7583\n"
     ]
    }
   ],
   "source": [
    "train_dataset = tf.data.Dataset.from_tensor_slices((X_train, Y_train)).batch(64)\n",
    "test_dataset = tf.data.Dataset.from_tensor_slices((X_test, Y_test)).batch(64)\n",
    "history = conv_model.fit(train_dataset, epochs=100, validation_data=test_dataset)"
   ]
  },
  {
   "cell_type": "markdown",
   "metadata": {},
   "source": [
    "<a name='5'></a>\n",
    "## 5 - History Object \n",
    "\n",
    "The history object is an output of the `.fit()` operation, and provides a record of all the loss and metric values in memory. It's stored as a dictionary that you can retrieve at `history.history`: "
   ]
  },
  {
   "cell_type": "code",
   "execution_count": 104,
   "metadata": {},
   "outputs": [
    {
     "data": {
      "text/plain": [
       "{'loss': [1.807295322418213,\n",
       "  1.7871077060699463,\n",
       "  1.781140923500061,\n",
       "  1.7739429473876953,\n",
       "  1.7610975503921509,\n",
       "  1.7426424026489258,\n",
       "  1.7166075706481934,\n",
       "  1.6849795579910278,\n",
       "  1.6465730667114258,\n",
       "  1.6026555299758911,\n",
       "  1.5508955717086792,\n",
       "  1.4965544939041138,\n",
       "  1.441313624382019,\n",
       "  1.3870635032653809,\n",
       "  1.3394360542297363,\n",
       "  1.2936583757400513,\n",
       "  1.2534459829330444,\n",
       "  1.216445803642273,\n",
       "  1.1798330545425415,\n",
       "  1.1446815729141235,\n",
       "  1.1120587587356567,\n",
       "  1.083212971687317,\n",
       "  1.0548087358474731,\n",
       "  1.0283564329147339,\n",
       "  1.0021159648895264,\n",
       "  0.9784181714057922,\n",
       "  0.9543140530586243,\n",
       "  0.9315871000289917,\n",
       "  0.9097757935523987,\n",
       "  0.890359103679657,\n",
       "  0.8690377473831177,\n",
       "  0.8508380055427551,\n",
       "  0.8330851197242737,\n",
       "  0.816312313079834,\n",
       "  0.7997320294380188,\n",
       "  0.7813906073570251,\n",
       "  0.7664246559143066,\n",
       "  0.7522217631340027,\n",
       "  0.7377849221229553,\n",
       "  0.724864661693573,\n",
       "  0.7118046283721924,\n",
       "  0.6999438405036926,\n",
       "  0.6874881982803345,\n",
       "  0.6743544340133667,\n",
       "  0.6638020873069763,\n",
       "  0.6533517837524414,\n",
       "  0.6423052549362183,\n",
       "  0.6328327059745789,\n",
       "  0.6227171421051025,\n",
       "  0.612234354019165,\n",
       "  0.6024357080459595,\n",
       "  0.5925084352493286,\n",
       "  0.5835695862770081,\n",
       "  0.5751057267189026,\n",
       "  0.5665640830993652,\n",
       "  0.5592424869537354,\n",
       "  0.5511351227760315,\n",
       "  0.5434349775314331,\n",
       "  0.5361493229866028,\n",
       "  0.5284839272499084,\n",
       "  0.5212785601615906,\n",
       "  0.5145259499549866,\n",
       "  0.5076186060905457,\n",
       "  0.5010554194450378,\n",
       "  0.4944700598716736,\n",
       "  0.4883473813533783,\n",
       "  0.48195087909698486,\n",
       "  0.47594207525253296,\n",
       "  0.47023963928222656,\n",
       "  0.4646287262439728,\n",
       "  0.4590875208377838,\n",
       "  0.4539758265018463,\n",
       "  0.4489254951477051,\n",
       "  0.44348201155662537,\n",
       "  0.438337504863739,\n",
       "  0.43362608551979065,\n",
       "  0.42901599407196045,\n",
       "  0.42426759004592896,\n",
       "  0.41972553730010986,\n",
       "  0.41546034812927246,\n",
       "  0.41120457649230957,\n",
       "  0.4071524441242218,\n",
       "  0.4031592011451721,\n",
       "  0.39913758635520935,\n",
       "  0.3953377902507782,\n",
       "  0.39190077781677246,\n",
       "  0.3880143165588379,\n",
       "  0.3844653069972992,\n",
       "  0.3813466429710388,\n",
       "  0.37824079394340515,\n",
       "  0.3754386603832245,\n",
       "  0.37271156907081604,\n",
       "  0.3699618875980377,\n",
       "  0.367620587348938,\n",
       "  0.3651600182056427,\n",
       "  0.36274072527885437,\n",
       "  0.3607076108455658,\n",
       "  0.3587729334831238,\n",
       "  0.3567277491092682,\n",
       "  0.3545418977737427],\n",
       " 'accuracy': [0.17129629850387573,\n",
       "  0.19722221791744232,\n",
       "  0.2203703671693802,\n",
       "  0.3083333373069763,\n",
       "  0.35370370745658875,\n",
       "  0.3296296298503876,\n",
       "  0.3759259283542633,\n",
       "  0.41111111640930176,\n",
       "  0.43796294927597046,\n",
       "  0.4444444477558136,\n",
       "  0.47592592239379883,\n",
       "  0.4990740716457367,\n",
       "  0.5129629373550415,\n",
       "  0.5379629731178284,\n",
       "  0.5527777671813965,\n",
       "  0.5657407641410828,\n",
       "  0.5824074149131775,\n",
       "  0.5898148417472839,\n",
       "  0.6037036776542664,\n",
       "  0.6175925731658936,\n",
       "  0.625,\n",
       "  0.6416666507720947,\n",
       "  0.6518518328666687,\n",
       "  0.664814829826355,\n",
       "  0.6833333373069763,\n",
       "  0.6888889074325562,\n",
       "  0.6944444179534912,\n",
       "  0.699999988079071,\n",
       "  0.7083333134651184,\n",
       "  0.7138888835906982,\n",
       "  0.7212963104248047,\n",
       "  0.7222222089767456,\n",
       "  0.7324073910713196,\n",
       "  0.7370370626449585,\n",
       "  0.7425925731658936,\n",
       "  0.75,\n",
       "  0.7574074268341064,\n",
       "  0.7648147940635681,\n",
       "  0.770370364189148,\n",
       "  0.7749999761581421,\n",
       "  0.7787036895751953,\n",
       "  0.7842592597007751,\n",
       "  0.7870370149612427,\n",
       "  0.7916666865348816,\n",
       "  0.7907407283782959,\n",
       "  0.7990740537643433,\n",
       "  0.8037037253379822,\n",
       "  0.8046296238899231,\n",
       "  0.8037037253379822,\n",
       "  0.8120370507240295,\n",
       "  0.8138889074325562,\n",
       "  0.8175926208496094,\n",
       "  0.8222222328186035,\n",
       "  0.8222222328186035,\n",
       "  0.8240740895271301,\n",
       "  0.8231481313705444,\n",
       "  0.8296296000480652,\n",
       "  0.8305555582046509,\n",
       "  0.8342592716217041,\n",
       "  0.8370370268821716,\n",
       "  0.8388888835906982,\n",
       "  0.8388888835906982,\n",
       "  0.8425925970077515,\n",
       "  0.8444444537162781,\n",
       "  0.8481481671333313,\n",
       "  0.8481481671333313,\n",
       "  0.8509259223937988,\n",
       "  0.8527777791023254,\n",
       "  0.8527777791023254,\n",
       "  0.8527777791023254,\n",
       "  0.854629635810852,\n",
       "  0.8574073910713196,\n",
       "  0.8574073910713196,\n",
       "  0.8601852059364319,\n",
       "  0.8638888597488403,\n",
       "  0.8657407164573669,\n",
       "  0.8694444298744202,\n",
       "  0.8694444298744202,\n",
       "  0.8712962865829468,\n",
       "  0.8722222447395325,\n",
       "  0.8740741014480591,\n",
       "  0.8796296119689941,\n",
       "  0.8824074268341064,\n",
       "  0.8833333253860474,\n",
       "  0.8833333253860474,\n",
       "  0.8861111402511597,\n",
       "  0.8870370388031006,\n",
       "  0.8870370388031006,\n",
       "  0.8879629373550415,\n",
       "  0.8861111402511597,\n",
       "  0.8879629373550415,\n",
       "  0.8888888955116272,\n",
       "  0.8898147940635681,\n",
       "  0.8916666507720947,\n",
       "  0.8935185074806213,\n",
       "  0.8916666507720947,\n",
       "  0.8935185074806213,\n",
       "  0.894444465637207,\n",
       "  0.895370364189148,\n",
       "  0.894444465637207],\n",
       " 'val_loss': [1.7894632816314697,\n",
       "  1.786375641822815,\n",
       "  1.7806333303451538,\n",
       "  1.7737923860549927,\n",
       "  1.7638287544250488,\n",
       "  1.746777892112732,\n",
       "  1.7272447347640991,\n",
       "  1.6993001699447632,\n",
       "  1.6682902574539185,\n",
       "  1.62819242477417,\n",
       "  1.582301378250122,\n",
       "  1.5288498401641846,\n",
       "  1.478797197341919,\n",
       "  1.4298663139343262,\n",
       "  1.3838669061660767,\n",
       "  1.344151258468628,\n",
       "  1.304771065711975,\n",
       "  1.2717636823654175,\n",
       "  1.2344415187835693,\n",
       "  1.2008240222930908,\n",
       "  1.1707501411437988,\n",
       "  1.1417251825332642,\n",
       "  1.1141390800476074,\n",
       "  1.0868977308273315,\n",
       "  1.0653051137924194,\n",
       "  1.0419130325317383,\n",
       "  1.0211951732635498,\n",
       "  1.0015908479690552,\n",
       "  0.980542004108429,\n",
       "  0.9646961092948914,\n",
       "  0.9437171816825867,\n",
       "  0.9280240535736084,\n",
       "  0.910983145236969,\n",
       "  0.8978262543678284,\n",
       "  0.8825543522834778,\n",
       "  0.8681920766830444,\n",
       "  0.8562002778053284,\n",
       "  0.8437880277633667,\n",
       "  0.8308190703392029,\n",
       "  0.8225653171539307,\n",
       "  0.8078244924545288,\n",
       "  0.7989722490310669,\n",
       "  0.7894647717475891,\n",
       "  0.7817898988723755,\n",
       "  0.7727963328361511,\n",
       "  0.7613580226898193,\n",
       "  0.7542065978050232,\n",
       "  0.7452739477157593,\n",
       "  0.7357483506202698,\n",
       "  0.7296302914619446,\n",
       "  0.7230681777000427,\n",
       "  0.7176159024238586,\n",
       "  0.7093271017074585,\n",
       "  0.7032202482223511,\n",
       "  0.6953423619270325,\n",
       "  0.6906254887580872,\n",
       "  0.681650698184967,\n",
       "  0.6772822737693787,\n",
       "  0.6707576513290405,\n",
       "  0.6652539372444153,\n",
       "  0.6597358584403992,\n",
       "  0.653910756111145,\n",
       "  0.6496996283531189,\n",
       "  0.6438659429550171,\n",
       "  0.6416915059089661,\n",
       "  0.6347268223762512,\n",
       "  0.6324413418769836,\n",
       "  0.6274071931838989,\n",
       "  0.6244133114814758,\n",
       "  0.6198505163192749,\n",
       "  0.6161365509033203,\n",
       "  0.612838089466095,\n",
       "  0.6096485257148743,\n",
       "  0.6071140170097351,\n",
       "  0.6033945679664612,\n",
       "  0.6008444428443909,\n",
       "  0.5980494618415833,\n",
       "  0.5958064794540405,\n",
       "  0.5934900641441345,\n",
       "  0.5917021632194519,\n",
       "  0.5900987386703491,\n",
       "  0.589099645614624,\n",
       "  0.5855637788772583,\n",
       "  0.5849243998527527,\n",
       "  0.5836743712425232,\n",
       "  0.5828350186347961,\n",
       "  0.5811930298805237,\n",
       "  0.5798991322517395,\n",
       "  0.5805165767669678,\n",
       "  0.5798956155776978,\n",
       "  0.5809062719345093,\n",
       "  0.5801746249198914,\n",
       "  0.5822558999061584,\n",
       "  0.5824782848358154,\n",
       "  0.5834176540374756,\n",
       "  0.5846981406211853,\n",
       "  0.5856647491455078,\n",
       "  0.5874278545379639,\n",
       "  0.5872125625610352,\n",
       "  0.5881837606430054],\n",
       " 'val_accuracy': [0.15000000596046448,\n",
       "  0.19166666269302368,\n",
       "  0.25833332538604736,\n",
       "  0.3166666626930237,\n",
       "  0.3499999940395355,\n",
       "  0.36666667461395264,\n",
       "  0.4000000059604645,\n",
       "  0.4000000059604645,\n",
       "  0.40833333134651184,\n",
       "  0.3916666805744171,\n",
       "  0.4583333432674408,\n",
       "  0.4749999940395355,\n",
       "  0.4833333194255829,\n",
       "  0.4833333194255829,\n",
       "  0.4749999940395355,\n",
       "  0.4749999940395355,\n",
       "  0.4833333194255829,\n",
       "  0.4749999940395355,\n",
       "  0.5166666507720947,\n",
       "  0.5166666507720947,\n",
       "  0.5249999761581421,\n",
       "  0.5166666507720947,\n",
       "  0.550000011920929,\n",
       "  0.5666666626930237,\n",
       "  0.5916666388511658,\n",
       "  0.5916666388511658,\n",
       "  0.6000000238418579,\n",
       "  0.6166666746139526,\n",
       "  0.6000000238418579,\n",
       "  0.625,\n",
       "  0.625,\n",
       "  0.6416666507720947,\n",
       "  0.6333333253860474,\n",
       "  0.6416666507720947,\n",
       "  0.6499999761581421,\n",
       "  0.6499999761581421,\n",
       "  0.6583333611488342,\n",
       "  0.6666666865348816,\n",
       "  0.675000011920929,\n",
       "  0.675000011920929,\n",
       "  0.6916666626930237,\n",
       "  0.6916666626930237,\n",
       "  0.6916666626930237,\n",
       "  0.6916666626930237,\n",
       "  0.6916666626930237,\n",
       "  0.7083333134651184,\n",
       "  0.6916666626930237,\n",
       "  0.6916666626930237,\n",
       "  0.7166666388511658,\n",
       "  0.7166666388511658,\n",
       "  0.7083333134651184,\n",
       "  0.7083333134651184,\n",
       "  0.7083333134651184,\n",
       "  0.7083333134651184,\n",
       "  0.7166666388511658,\n",
       "  0.7166666388511658,\n",
       "  0.7416666746139526,\n",
       "  0.7416666746139526,\n",
       "  0.7416666746139526,\n",
       "  0.7416666746139526,\n",
       "  0.7416666746139526,\n",
       "  0.7416666746139526,\n",
       "  0.7416666746139526,\n",
       "  0.75,\n",
       "  0.7416666746139526,\n",
       "  0.7583333253860474,\n",
       "  0.75,\n",
       "  0.7583333253860474,\n",
       "  0.75,\n",
       "  0.75,\n",
       "  0.75,\n",
       "  0.75,\n",
       "  0.7416666746139526,\n",
       "  0.7416666746139526,\n",
       "  0.75,\n",
       "  0.7583333253860474,\n",
       "  0.7583333253860474,\n",
       "  0.7666666507720947,\n",
       "  0.7666666507720947,\n",
       "  0.7666666507720947,\n",
       "  0.7666666507720947,\n",
       "  0.7666666507720947,\n",
       "  0.7666666507720947,\n",
       "  0.7666666507720947,\n",
       "  0.7666666507720947,\n",
       "  0.7749999761581421,\n",
       "  0.7749999761581421,\n",
       "  0.7749999761581421,\n",
       "  0.7749999761581421,\n",
       "  0.7749999761581421,\n",
       "  0.7749999761581421,\n",
       "  0.7749999761581421,\n",
       "  0.7749999761581421,\n",
       "  0.7749999761581421,\n",
       "  0.7749999761581421,\n",
       "  0.7749999761581421,\n",
       "  0.7749999761581421,\n",
       "  0.7749999761581421,\n",
       "  0.7749999761581421,\n",
       "  0.7583333253860474]}"
      ]
     },
     "execution_count": 104,
     "metadata": {},
     "output_type": "execute_result"
    }
   ],
   "source": [
    "history.history"
   ]
  },
  {
   "cell_type": "markdown",
   "metadata": {},
   "source": [
    "Now visualize the loss over time using `history.history`: "
   ]
  },
  {
   "cell_type": "code",
   "execution_count": 105,
   "metadata": {},
   "outputs": [
    {
     "name": "stderr",
     "output_type": "stream",
     "text": [
      "/tmp/ipykernel_136/973814028.py:5: SettingWithCopyWarning: \n",
      "A value is trying to be set on a copy of a slice from a DataFrame\n",
      "\n",
      "See the caveats in the documentation: https://pandas.pydata.org/pandas-docs/stable/user_guide/indexing.html#returning-a-view-versus-a-copy\n",
      "  df_loss.rename(columns={'loss':'train','val_loss':'validation'},inplace=True)\n",
      "/tmp/ipykernel_136/973814028.py:7: SettingWithCopyWarning: \n",
      "A value is trying to be set on a copy of a slice from a DataFrame\n",
      "\n",
      "See the caveats in the documentation: https://pandas.pydata.org/pandas-docs/stable/user_guide/indexing.html#returning-a-view-versus-a-copy\n",
      "  df_acc.rename(columns={'accuracy':'train','val_accuracy':'validation'},inplace=True)\n"
     ]
    },
    {
     "data": {
      "text/plain": [
       "[Text(0.5, 0, 'Epoch'), Text(0, 0.5, 'Accuracy')]"
      ]
     },
     "execution_count": 105,
     "metadata": {},
     "output_type": "execute_result"
    },
    {
     "data": {
      "image/png": "[encoded data removed]",
      "text/plain": [
       "<Figure size 1200x800 with 1 Axes>"
      ]
     },
     "metadata": {},
     "output_type": "display_data"
    },
    {
     "data": {
      "image/png": "[encoded data removed]",
      "text/plain": [
       "<Figure size 1200x800 with 1 Axes>"
      ]
     },
     "metadata": {},
     "output_type": "display_data"
    }
   ],
   "source": [
    "# The history.history[\"loss\"] entry is a dictionary with as many values as epochs that the\n",
    "# model was trained on. \n",
    "df_loss_acc = pd.DataFrame(history.history)\n",
    "df_loss= df_loss_acc[['loss','val_loss']]\n",
    "df_loss.rename(columns={'loss':'train','val_loss':'validation'},inplace=True)\n",
    "df_acc= df_loss_acc[['accuracy','val_accuracy']]\n",
    "df_acc.rename(columns={'accuracy':'train','val_accuracy':'validation'},inplace=True)\n",
    "df_loss.plot(title='Model loss',figsize=(12,8)).set(xlabel='Epoch',ylabel='Loss')\n",
    "df_acc.plot(title='Model Accuracy',figsize=(12,8)).set(xlabel='Epoch',ylabel='Accuracy')"
   ]
  },
  {
   "cell_type": "markdown",
   "metadata": {},
   "source": [
    "**Congratulations**! You've finished the assignment and built two models: One that recognizes  smiles, and another that recognizes SIGN language with almost 80% accuracy on the test set. In addition to that, you now also understand the applications of two Keras APIs: Sequential and Functional. Nicely done! \n",
    "\n",
    "By now, you know a bit about how the Functional API works and may have glimpsed the possibilities. In your next assignment, you'll really get a feel for its power when you get the opportunity to build a very deep ConvNet, using ResNets! "
   ]
  },
  {
   "cell_type": "markdown",
   "metadata": {},
   "source": [
    "<a name='6'></a>\n",
    "## 6 - Bibliography\n",
    "\n",
    "You're always encouraged to read the official documentation. To that end, you can find the docs for the Sequential and Functional APIs here: \n",
    "\n",
    "https://www.tensorflow.org/guide/keras/sequential_model\n",
    "\n",
    "https://www.tensorflow.org/guide/keras/functional"
   ]
  }
 ],
 "metadata": {
  "coursera": {
   "course_slug": "convolutional-neural-networks",
   "graded_item_id": "bwbJV",
   "launcher_item_id": "0TkXB"
  },
  "kernelspec": {
   "display_name": "Python 3 (ipykernel)",
   "language": "python",
   "name": "python3"
  },
  "language_info": {
   "codemirror_mode": {
    "name": "ipython",
    "version": 3
   },
   "file_extension": ".py",
   "mimetype": "text/x-python",
   "name": "python",
   "nbconvert_exporter": "python",
   "pygments_lexer": "ipython3",
   "version": "3.9.13"
  }
 },
 "nbformat": 4,
 "nbformat_minor": 2
}
